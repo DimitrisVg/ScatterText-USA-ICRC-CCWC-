{
 "cells": [
  {
   "cell_type": "markdown",
   "id": "2e127aea",
   "metadata": {},
   "source": [
    "Import Libraries"
   ]
  },
  {
   "cell_type": "code",
   "execution_count": 2,
   "id": "5dcdb501",
   "metadata": {},
   "outputs": [],
   "source": [
    "import spacy\n",
    "import pandas as pd\n",
    "import scattertext as st\n",
    "from spacy.lang.en.examples import sentences\n",
    "from scattertext import CorpusFromPandas, produce_scattertext_explorer\n",
    "from IPython.display import IFrame"
   ]
  },
  {
   "cell_type": "markdown",
   "id": "dfd35970",
   "metadata": {},
   "source": [
    "Read Text Sets"
   ]
  },
  {
   "cell_type": "code",
   "execution_count": 3,
   "id": "80272343",
   "metadata": {},
   "outputs": [],
   "source": [
    "with open('ICRC_FullCorpus.txt', encoding=\"utf8\") as f:\n",
    "    rawtext = f.readlines()\n",
    "    \n",
    "rawtext_icrc = \" \".join(rawtext)"
   ]
  },
  {
   "cell_type": "code",
   "execution_count": 4,
   "id": "7494d281",
   "metadata": {},
   "outputs": [],
   "source": [
    "with open('USA_CCWC_Updated_FULL.txt', encoding=\"utf8\") as d:\n",
    "    rawtext2 = d.readlines()\n",
    "    \n",
    "rawtext_usa = \" \".join(rawtext2)"
   ]
  },
  {
   "cell_type": "markdown",
   "id": "aae5c418",
   "metadata": {},
   "source": [
    "Create Dataframe"
   ]
  },
  {
   "cell_type": "code",
   "execution_count": 6,
   "id": "21d9f1df",
   "metadata": {},
   "outputs": [
    {
     "data": {
      "text/html": [
       "<div>\n",
       "<style scoped>\n",
       "    .dataframe tbody tr th:only-of-type {\n",
       "        vertical-align: middle;\n",
       "    }\n",
       "\n",
       "    .dataframe tbody tr th {\n",
       "        vertical-align: top;\n",
       "    }\n",
       "\n",
       "    .dataframe thead th {\n",
       "        text-align: right;\n",
       "    }\n",
       "</style>\n",
       "<table border=\"1\" class=\"dataframe\">\n",
       "  <thead>\n",
       "    <tr style=\"text-align: right;\">\n",
       "      <th></th>\n",
       "      <th>text</th>\n",
       "      <th>country</th>\n",
       "    </tr>\n",
       "  </thead>\n",
       "  <tbody>\n",
       "    <tr>\n",
       "      <th>0</th>\n",
       "      <td>Convention on Certain Conventional Weapons (CC...</td>\n",
       "      <td>icrc</td>\n",
       "    </tr>\n",
       "    <tr>\n",
       "      <th>1</th>\n",
       "      <td>﻿The Convention on Certain Conventional Weapon...</td>\n",
       "      <td>usa</td>\n",
       "    </tr>\n",
       "  </tbody>\n",
       "</table>\n",
       "</div>"
      ],
      "text/plain": [
       "                                                text country\n",
       "0  Convention on Certain Conventional Weapons (CC...    icrc\n",
       "1  ﻿The Convention on Certain Conventional Weapon...     usa"
      ]
     },
     "execution_count": 6,
     "metadata": {},
     "output_type": "execute_result"
    }
   ],
   "source": [
    "dic = {\"text\":[rawtext_icrc,rawtext_usa],\"country\":[\"icrc\",\"usa\"]}\n",
    "df = pd.DataFrame.from_dict(dic)\n",
    "df"
   ]
  },
  {
   "cell_type": "code",
   "execution_count": 7,
   "id": "2d018061",
   "metadata": {},
   "outputs": [],
   "source": [
    "nlp = spacy.load(\"en_core_web_sm\")  #load spacy english library"
   ]
  },
  {
   "cell_type": "code",
   "execution_count": 8,
   "id": "bfd56e19",
   "metadata": {},
   "outputs": [],
   "source": [
    "df['parsed'] = df.text.apply(nlp) #Parse text and create new column"
   ]
  },
  {
   "cell_type": "code",
   "execution_count": 10,
   "id": "b605fa38",
   "metadata": {},
   "outputs": [],
   "source": [
    "corpus = st.CorpusFromPandas(df, category_col='country', text_col='parsed', nlp=nlp).build() #Build the corpus"
   ]
  },
  {
   "cell_type": "code",
   "execution_count": 11,
   "id": "cedfc897",
   "metadata": {},
   "outputs": [
    {
     "data": {
      "text/html": [
       "\n",
       "        <iframe\n",
       "            width=\"1200\"\n",
       "            height=\"700\"\n",
       "            src=\"C:\\Users\\vogia\\Desktop\\dimitris-vogias-exercises\\file.html\"\n",
       "            frameborder=\"0\"\n",
       "            allowfullscreen\n",
       "            \n",
       "        ></iframe>\n",
       "        "
      ],
      "text/plain": [
       "<IPython.lib.display.IFrame at 0x1dffaac5f10>"
      ]
     },
     "execution_count": 11,
     "metadata": {},
     "output_type": "execute_result"
    }
   ],
   "source": [
    "html = st.produce_scattertext_explorer(corpus,\n",
    "                                       category='usa',\n",
    "                                       category_name='usa',\n",
    "                                       not_category_name='icrc',\n",
    "                                       minimum_term_frequency=5,\n",
    "                                       width_in_pixels=1000,\n",
    "                                       transform=st.Scalers.log_scale_standardize)\n",
    "file_name = r'C:\\...' #Remember to change your file directory\n",
    "open(file_name, 'wb').write(html.encode('utf-8'))\n",
    "IFrame(src=file_name, width = 1200, height=700)"
   ]
  },
  {
   "cell_type": "code",
   "execution_count": null,
   "id": "79f19c22",
   "metadata": {},
   "outputs": [],
   "source": []
  }
 ],
 "metadata": {
  "kernelspec": {
   "display_name": "Python 3 (ipykernel)",
   "language": "python",
   "name": "python3"
  },
  "language_info": {
   "codemirror_mode": {
    "name": "ipython",
    "version": 3
   },
   "file_extension": ".py",
   "mimetype": "text/x-python",
   "name": "python",
   "nbconvert_exporter": "python",
   "pygments_lexer": "ipython3",
   "version": "3.8.10"
  }
 },
 "nbformat": 4,
 "nbformat_minor": 5
}
